{
 "cells": [
  {
   "cell_type": "markdown",
   "metadata": {},
   "source": [
    "### Longitudinal predictions for the AML dataset"
   ]
  },
  {
   "cell_type": "markdown",
   "metadata": {},
   "source": [
    "#### 1. Import libraries and functions"
   ]
  },
  {
   "cell_type": "code",
   "execution_count": 3,
   "metadata": {},
   "outputs": [],
   "source": [
    "import arviz as az\n",
    "import numpy as np\n",
    "from anytree import PreOrderIter\n",
    "import matplotlib.pyplot as plt\n",
    "import pandas as pd\n",
    "from copy import deepcopy\n",
    "import seaborn as sns\n",
    "from fitree import(\n",
    "\tload_cohort_from_json,\n",
    "\tSubclone,\n",
    ")"
   ]
  },
  {
   "cell_type": "markdown",
   "metadata": {},
   "source": [
    "#### 2. Load Data"
   ]
  },
  {
   "cell_type": "code",
   "execution_count": 4,
   "metadata": {},
   "outputs": [],
   "source": [
    "AML_cohort = load_cohort_from_json(\"AML_cohort_Morita_2020.json\")\n"
   ]
  },
  {
   "cell_type": "code",
   "execution_count": 5,
   "metadata": {},
   "outputs": [],
   "source": [
    "AML_combined_traces = az.from_netcdf(\"AML_combined_traces.nc\")"
   ]
  },
  {
   "cell_type": "code",
   "execution_count": 6,
   "metadata": {},
   "outputs": [],
   "source": [
    "rng = np.random.default_rng(123)\n",
    "n_samples = 1000\n",
    "AML_combined_traces = AML_combined_traces.posterior.stack(samples=[\"chain\", \"draw\"])\n",
    "sampled_traces = AML_combined_traces.isel(samples=rng.choice(AML_combined_traces.samples.size, n_samples, replace=False))\n",
    "F_mat_samples = sampled_traces.fitness_matrix.values"
   ]
  },
  {
   "cell_type": "code",
   "execution_count": 7,
   "metadata": {},
   "outputs": [],
   "source": [
    "mutation_set = AML_cohort.get_observed_mutations()"
   ]
  },
  {
   "cell_type": "markdown",
   "metadata": {},
   "source": [
    "#### 3. Helper functions"
   ]
  },
  {
   "cell_type": "code",
   "execution_count": 8,
   "metadata": {},
   "outputs": [],
   "source": [
    "def get_possible_mutations(node: Subclone, mutation_set: set) -> set[int]:\n",
    "    \"\"\"This function returns a set of all mutations of the given node,\n",
    "    as well as its parent and children.\n",
    "    \"\"\"\n",
    "    mutations = set(node.get_genotype())\n",
    "    for child in node.children:\n",
    "        mutations.update(child.mutation_ids)\n",
    "\n",
    "    return mutation_set.difference(mutations)\n",
    "\n",
    "def get_pathway(leaf: Subclone, mutation_labels: list) -> str:\n",
    "    path = \"\"\n",
    "    current_node = leaf\n",
    "    while not current_node.is_root:\n",
    "        mut = mutation_labels[current_node.mutation_ids[0]] # pyright: ignore\n",
    "        path = f\"->{mut}{path}\"\n",
    "        current_node = current_node.parent\n",
    "\n",
    "    path = f\"Root{path}\"\n",
    "    return path\n",
    "\n",
    "def get_predictions(\n",
    "    tree: Subclone,\n",
    "    mutation_set: set,\n",
    "    mutation_labels: list,\n",
    "    mu_vec: np.ndarray,\n",
    "    F_mat: np.ndarray,\n",
    "    common_beta: float = 1.0,\n",
    "    max_level: int | None = None,\n",
    ") -> pd.DataFrame:\n",
    "    \n",
    "    rows = []\n",
    "\n",
    "    tree_ = deepcopy(tree)\n",
    "    # loop through all nodes in the tree\n",
    "    all_nodes = list(PreOrderIter(tree_, maxlevel=max_level))\n",
    "    for node in all_nodes:\n",
    "\n",
    "        # update growth parameters for the node\n",
    "        if not node.is_root:\n",
    "            node.get_growth_params(mu_vec, F_mat, common_beta)\n",
    "\n",
    "        possible_mutations = get_possible_mutations(node, mutation_set)\n",
    "        for j in possible_mutations:\n",
    "            new_node = Subclone(\n",
    "                node_id=tree_.size,\n",
    "                mutation_ids=[j],\n",
    "                seq_cell_number=0,\n",
    "                parent=node,\n",
    "            )\n",
    "            growth_params = new_node.get_growth_params(mu_vec, F_mat, common_beta, return_dict=True)\n",
    "            \n",
    "            # add a new row to the dataframe\n",
    "            new_row = {\n",
    "                \"pathway\": get_pathway(new_node, mutation_labels),\n",
    "                \"parent_size\": new_node.parent.cell_number,\n",
    "                \"mutation_rate\": growth_params[\"nu\"],\n",
    "                \"lambda\": growth_params[\"lam\"],\n",
    "                \"delta\": growth_params[\"delta\"],\n",
    "            }\n",
    "            rows.append(new_row)\n",
    "          \n",
    "    predictions = pd.DataFrame(rows)\n",
    "    predictions[\"rate\"] = predictions[\"parent_size\"] * predictions[\"mutation_rate\"] * predictions[\"delta\"]\n",
    "    predictions[\"rank\"] = predictions[\"rate\"].rank(pct=True)\n",
    "\n",
    "    return predictions\n"
   ]
  },
  {
   "cell_type": "code",
   "execution_count": 20,
   "metadata": {},
   "outputs": [],
   "source": [
    "# Set global Seaborn theme to white\n",
    "sns.set_theme(style=\"white\")\n",
    "\n",
    "def plot_rank_density(\n",
    "    ax,\n",
    "    ranks, \n",
    "    TreeMHN_rank, \n",
    "    REVOLVER_rank,\n",
    "    CloMu_rank,\n",
    "    title\n",
    "):\n",
    "    # Define color palette with a softer, modern touch\n",
    "    colors = {\n",
    "        \"FiTree\": \"#fac748\",  \n",
    "        \"TreeMHN\": \"#9bc53d\", \n",
    "        \"REVOLVER\": \"#8390fa\", \n",
    "        \"CloMu\": \"grey\",\n",
    "    }\n",
    "\n",
    "    # Ensure the subplot background is white\n",
    "    ax.set_facecolor(\"white\")\n",
    "\n",
    "    # KDE plot with more elegant aesthetics\n",
    "    sns.kdeplot(\n",
    "        ranks, color=colors[\"FiTree\"], label=\"FiTree posterior\", \n",
    "        linewidth=2, fill=True, alpha=0.4, bw_adjust=1.0, ax=ax, \n",
    "        clip=(0, 1)\n",
    "    )\n",
    "\n",
    "    # Vertical lines with matching colors and better formatting\n",
    "    ax.axvline(np.median(ranks), color=colors[\"FiTree\"], linestyle=\"-\", linewidth=3, label=\"FiTree median\")\n",
    "    ax.axvline(TreeMHN_rank, color=colors[\"TreeMHN\"], linestyle=\"-.\", linewidth=3, label=\"TreeMHN\")\n",
    "    ax.axvline(REVOLVER_rank, color=colors[\"REVOLVER\"], linestyle=\":\", linewidth=3, label=\"REVOLVER\")\n",
    "    ax.axvline(CloMu_rank, color=colors[\"CloMu\"], linestyle=\"--\", linewidth=3, label=\"CloMu\")\n",
    "\n",
    "\n",
    "    ax.set_xlabel(\"\")\n",
    "    ax.set_xticks([0.25, 0.5, 0.75, 1])\n",
    "    ax.set_yticks([])  # Remove y-axis\n",
    "    ax.set_ylabel(\"\")\n",
    "\n",
    "    ax.set_title(title, fontsize=12, pad=16)\n",
    "\n",
    "    # Minimalist grid with subtle visibility\n",
    "    ax.grid(True, linestyle=\":\", alpha=0.8)\n",
    "\n",
    "    # Add border\n",
    "    for spine in ax.spines.values():\n",
    "        spine.set_edgecolor('grey')\n",
    "        spine.set_linewidth(1)\n",
    "\n",
    "    \n",
    "def plot_rank_densities(\n",
    "    ranks_list,\n",
    "    TreeMHN_ranks,\n",
    "    REVOLVER_ranks,\n",
    "    CloMu_ranks,\n",
    "    titles,\n",
    "    figsize=(16, 6),\n",
    "):\n",
    "    fig, axs = plt.subplots(4, 1, figsize=figsize, sharey=False, sharex=False)\n",
    "\n",
    "    axs = axs.flatten()\n",
    "    \n",
    "    # Ensure entire figure background is white\n",
    "    fig.patch.set_facecolor(\"white\")\n",
    "\n",
    "    for ax, ranks, TreeMHN_rank, REVOLVER_rank, CloMu_rank, title in zip(axs, ranks_list, TreeMHN_ranks, REVOLVER_ranks, CloMu_ranks, titles):\n",
    "        plot_rank_density(ax, ranks, TreeMHN_rank, REVOLVER_rank, CloMu_rank, title)\n",
    "        ax.set_facecolor(\"white\")  # Set subplot background to white\n",
    "\n",
    "    handles, labels = axs[0].get_legend_handles_labels()\n",
    "    fig.legend(handles, labels, loc=\"upper center\", ncol=2, fontsize=12, bbox_to_anchor=(0.5, 1.1), frameon=False)  # Add legend\n",
    "    # fig.legend(handles, labels, loc=\"center right\", fontsize=14, bbox_to_anchor=(1.5, 0.5), frameon=False)  # Add legend\n",
    "\n",
    "    # remove legend border\n",
    "\n",
    "\n",
    "    fig.text(0.5, -0.02, \"Percentile Rank\", fontsize=16, ha=\"center\")\n",
    "\n",
    "    plt.tight_layout()\n",
    "\n",
    "    # Ensure saved figure background is white\n",
    "    \n"
   ]
  },
  {
   "cell_type": "markdown",
   "metadata": {},
   "source": [
    "#### 4. Evaluation on patients"
   ]
  },
  {
   "cell_type": "markdown",
   "metadata": {},
   "source": [
    "##### AML-04-001"
   ]
  },
  {
   "cell_type": "code",
   "execution_count": 10,
   "metadata": {},
   "outputs": [],
   "source": [
    "tree_idx = AML_cohort.tree_labels.index(\"AML-04-001\")\n",
    "tree = AML_cohort.trees[tree_idx]"
   ]
  },
  {
   "cell_type": "code",
   "execution_count": 11,
   "metadata": {},
   "outputs": [],
   "source": [
    "ranks_04_1 = np.zeros(1000)\n",
    "ranks_04_2 = np.zeros(1000)\n",
    "for i in range(1000):\n",
    "    pred = get_predictions(\n",
    "        tree.root, \n",
    "        mutation_set, \n",
    "        AML_cohort.mutation_labels,\n",
    "        AML_cohort.mu_vec, \n",
    "        F_mat_samples[:,:,i], \n",
    "        common_beta=1.0\n",
    "    )\n",
    "    ranks_04_1[i] = pred.query(f\"pathway == 'Root->SF3B1->SRSF2->NRAS->WT1'\")[\"rank\"].astype(float).values[0]\n",
    "    ranks_04_2[i] = pred.query(f\"pathway == 'Root->SF3B1->SRSF2->IDH1'\")[\"rank\"].astype(float).values[0]"
   ]
  },
  {
   "cell_type": "markdown",
   "metadata": {},
   "source": [
    "##### AML-09-001"
   ]
  },
  {
   "cell_type": "code",
   "execution_count": 12,
   "metadata": {},
   "outputs": [],
   "source": [
    "tree_idx = AML_cohort.tree_labels.index(\"AML-09-001\")\n",
    "tree = AML_cohort.trees[tree_idx]"
   ]
  },
  {
   "cell_type": "code",
   "execution_count": 13,
   "metadata": {},
   "outputs": [],
   "source": [
    "ranks_09 = np.zeros(1000)\n",
    "for i in range(1000):\n",
    "    pred = get_predictions(\n",
    "        tree.root, \n",
    "        mutation_set, \n",
    "        AML_cohort.mutation_labels,\n",
    "        AML_cohort.mu_vec, \n",
    "        F_mat_samples[:,:,i], \n",
    "        common_beta=1.0\n",
    "    )\n",
    "    ranks_09[i] = pred.query(f\"pathway == 'Root->NPM1->FLT3->WT1'\")[\"rank\"].astype(float).values[0]"
   ]
  },
  {
   "cell_type": "markdown",
   "metadata": {},
   "source": [
    "##### AML-83-001"
   ]
  },
  {
   "cell_type": "code",
   "execution_count": 14,
   "metadata": {},
   "outputs": [],
   "source": [
    "tree_idx = AML_cohort.tree_labels.index(\"AML-83-001\")\n",
    "tree = AML_cohort.trees[tree_idx]"
   ]
  },
  {
   "cell_type": "code",
   "execution_count": 15,
   "metadata": {},
   "outputs": [],
   "source": [
    "ranks_83 = np.zeros(1000)\n",
    "for i in range(1000):\n",
    "    pred = get_predictions(\n",
    "        tree.root, \n",
    "        mutation_set, \n",
    "        AML_cohort.mutation_labels,\n",
    "        AML_cohort.mu_vec, \n",
    "        F_mat_samples[:,:,i], \n",
    "        common_beta=1.0\n",
    "    )\n",
    "    ranks_83[i] = pred.query(f\"pathway == 'Root->DNMT3A->IDH2->NRAS'\")[\"rank\"].astype(float).values[0]"
   ]
  },
  {
   "cell_type": "code",
   "execution_count": 16,
   "metadata": {},
   "outputs": [],
   "source": [
    "ranks_list = [ranks_04_1, ranks_04_2, ranks_09, ranks_83]\n",
    "TreeMHN_ranks = [0.7364, 0.7023, 0.9569, 0.9716] # obtained from the TreeMHN paper (Luo et al., 2023)\n",
    "REVOLVER_ranks = [0.3591, 0.8341, 1.0, 0.9545] # obtained from the TreeMHN paper (Luo et al., 2023)\n",
    "CloMu_ranks = [0.6936, 0.3873, 0.3333, 0.9672] # obtained from a separate analysis (see CloMu_predictions.ipynb)\n",
    "\n",
    "titles = [\n",
    "    \"AML-04-001\\nRoot$\\\\rightarrow$SF3B1$\\\\rightarrow$SRSF2$\\\\rightarrow$NRAS$\\\\rightarrow$WT1\",\n",
    "    \"AML-04-001\\nRoot$\\\\rightarrow$SF3B1$\\\\rightarrow$SRSF2$\\\\rightarrow$IDH1\",\n",
    "    \"AML-09-001\\nRoot$\\\\rightarrow$NPM1$\\\\rightarrow$FLT3$\\\\rightarrow$WT1\",\n",
    "    \"AML-83-001\\nRoot$\\\\rightarrow$DNMT3A$\\\\rightarrow$IDH2$\\\\rightarrow$NRAS\",\n",
    "]"
   ]
  },
  {
   "cell_type": "code",
   "execution_count": null,
   "metadata": {},
   "outputs": [
    {
     "data": {
      "image/png": "[encoded data removed]",
      "text/plain": [
       "<Figure size 300x800 with 4 Axes>"
      ]
     },
     "metadata": {},
     "output_type": "display_data"
    }
   ],
   "source": [
    "plot_rank_densities(ranks_list, TreeMHN_ranks, REVOLVER_ranks, CloMu_ranks, titles, figsize=(3, 8))\n",
    "plt.show()"
   ]
  }
 ],
 "metadata": {
  "kernelspec": {
   "display_name": "FiTree",
   "language": "python",
   "name": "python3"
  },
  "language_info": {
   "codemirror_mode": {
    "name": "ipython",
    "version": 3
   },
   "file_extension": ".py",
   "mimetype": "text/x-python",
   "name": "python",
   "nbconvert_exporter": "python",
   "pygments_lexer": "ipython3",
   "version": "3.11.9"
  }
 },
 "nbformat": 4,
 "nbformat_minor": 2
}
