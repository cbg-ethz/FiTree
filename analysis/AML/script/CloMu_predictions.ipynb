{
 "cells": [
  {
   "cell_type": "markdown",
   "metadata": {},
   "source": [
    "### Longitudinal predictions on the AML dataset (CloMu)"
   ]
  },
  {
   "cell_type": "markdown",
   "metadata": {},
   "source": [
    "This notebook needs to be run under the [CloMu repository](https://github.com/elkebir-group/CloMu.git)."
   ]
  },
  {
   "cell_type": "markdown",
   "metadata": {},
   "source": [
    "#### 1. Imports"
   ]
  },
  {
   "cell_type": "code",
   "execution_count": 13,
   "metadata": {},
   "outputs": [],
   "source": [
    "import torch\n",
    "import numpy as np\n",
    "import pandas as pd\n",
    "from scipy.special import softmax\n",
    "from collections import defaultdict, deque\n",
    "\n",
    "from CloMu import *"
   ]
  },
  {
   "cell_type": "markdown",
   "metadata": {},
   "source": [
    "#### 2. Load data"
   ]
  },
  {
   "cell_type": "code",
   "execution_count": 4,
   "metadata": {},
   "outputs": [
    {
     "name": "stderr",
     "output_type": "stream",
     "text": [
      "/var/folders/q6/n31xwv355cq37wn9p1s_92980000gr/T/ipykernel_51271/74726927.py:1: FutureWarning: You are using `torch.load` with `weights_only=False` (the current default value), which uses the default pickle module implicitly. It is possible to construct malicious pickle data which will execute arbitrary code during unpickling (See https://github.com/pytorch/pytorch/blob/main/SECURITY.md#untrusted-models for more details). In a future release, the default value for `weights_only` will be flipped to `True`. This limits the functions that could be executed during unpickling. Arbitrary objects will no longer be allowed to be loaded via this mode unless they are explicitly allowlisted by the user via `torch.serialization.add_safe_globals`. We recommend you start setting `weights_only=True` for any use case where you don't have full control of the loaded file. Please open an issue on GitHub for any issues related to this experimental feature.\n",
      "  model = torch.load('Models/realData/savedModel_AML.pt')\n"
     ]
    }
   ],
   "source": [
    "model = torch.load('Models/realData/savedModel_AML.pt')"
   ]
  },
  {
   "cell_type": "code",
   "execution_count": 5,
   "metadata": {},
   "outputs": [
    {
     "data": {
      "text/plain": [
       "MutationModel(\n",
       "  (lin1): Linear(in_features=42, out_features=5, bias=True)\n",
       "  (lin2): Linear(in_features=5, out_features=22, bias=True)\n",
       ")"
      ]
     },
     "execution_count": 5,
     "metadata": {},
     "output_type": "execute_result"
    }
   ],
   "source": [
    "model"
   ]
  },
  {
   "cell_type": "code",
   "execution_count": 6,
   "metadata": {},
   "outputs": [],
   "source": [
    "AML_fitness = np.load('results/realData/fitness_AML.npy', allow_pickle=True)"
   ]
  },
  {
   "cell_type": "code",
   "execution_count": 7,
   "metadata": {},
   "outputs": [
    {
     "data": {
      "text/plain": [
       "array([0.01939408, 0.03941291, 0.18423268, 0.01930839, 0.00585   ,\n",
       "       0.01932359, 0.05464946, 0.0193208 , 0.02791075, 0.01935017,\n",
       "       0.0193455 , 0.01934996, 0.33878654, 0.02613744, 0.0193467 ,\n",
       "       0.01937685, 0.01936982, 0.01938877, 0.01932122, 0.01941568,\n",
       "       0.05207818, 0.01933071], dtype=float32)"
      ]
     },
     "execution_count": 7,
     "metadata": {},
     "output_type": "execute_result"
    }
   ],
   "source": [
    "AML_fitness"
   ]
  },
  {
   "cell_type": "code",
   "execution_count": 8,
   "metadata": {},
   "outputs": [],
   "source": [
    "AML_mutations = np.load('data/realData/categoryNames.npy', allow_pickle=True)"
   ]
  },
  {
   "cell_type": "code",
   "execution_count": 9,
   "metadata": {},
   "outputs": [
    {
     "data": {
      "text/plain": [
       "array(['ASXL', 'ASXL1', 'DNMT3A', 'EZH2', 'FLT3', 'FLT3-ITD', 'GATA2',\n",
       "       'IDH1', 'IDH2', 'JAK2', 'KIT', 'KRAS', 'NPM1', 'NRAS', 'PTPN11',\n",
       "       'RUNX1', 'SF3B1', 'SFB1', 'SRSF2', 'TP53', 'U2AF1', 'WT1',\n",
       "       'ZZZZZZZZZZ', 'ZZZZZZZZZZZZZZZZ'], dtype='<U16')"
      ]
     },
     "execution_count": 9,
     "metadata": {},
     "output_type": "execute_result"
    }
   ],
   "source": [
    "AML_mutations"
   ]
  },
  {
   "cell_type": "code",
   "execution_count": 10,
   "metadata": {},
   "outputs": [],
   "source": [
    "AML_fitness_dict = dict(zip(AML_mutations[:-2], AML_fitness))"
   ]
  },
  {
   "cell_type": "code",
   "execution_count": 11,
   "metadata": {},
   "outputs": [
    {
     "data": {
      "text/plain": [
       "{np.str_('ASXL'): np.float32(0.019394081),\n",
       " np.str_('ASXL1'): np.float32(0.039412912),\n",
       " np.str_('DNMT3A'): np.float32(0.18423268),\n",
       " np.str_('EZH2'): np.float32(0.019308392),\n",
       " np.str_('FLT3'): np.float32(0.005849996),\n",
       " np.str_('FLT3-ITD'): np.float32(0.019323587),\n",
       " np.str_('GATA2'): np.float32(0.054649465),\n",
       " np.str_('IDH1'): np.float32(0.019320799),\n",
       " np.str_('IDH2'): np.float32(0.02791075),\n",
       " np.str_('JAK2'): np.float32(0.019350166),\n",
       " np.str_('KIT'): np.float32(0.019345503),\n",
       " np.str_('KRAS'): np.float32(0.019349964),\n",
       " np.str_('NPM1'): np.float32(0.33878654),\n",
       " np.str_('NRAS'): np.float32(0.02613744),\n",
       " np.str_('PTPN11'): np.float32(0.019346695),\n",
       " np.str_('RUNX1'): np.float32(0.019376848),\n",
       " np.str_('SF3B1'): np.float32(0.01936982),\n",
       " np.str_('SFB1'): np.float32(0.019388774),\n",
       " np.str_('SRSF2'): np.float32(0.019321222),\n",
       " np.str_('TP53'): np.float32(0.019415682),\n",
       " np.str_('U2AF1'): np.float32(0.05207818),\n",
       " np.str_('WT1'): np.float32(0.019330708)}"
      ]
     },
     "execution_count": 11,
     "metadata": {},
     "output_type": "execute_result"
    }
   ],
   "source": [
    "AML_fitness_dict"
   ]
  },
  {
   "cell_type": "code",
   "execution_count": null,
   "metadata": {},
   "outputs": [],
   "source": [
    "mutation_list = AML_mutations[:-2]\n",
    "mutation_to_index = {m: i for i, m in enumerate(mutation_list)}\n",
    "\n",
    "# AML-04-001\n",
    "edges = np.array([\n",
    "    ['FLT3-ITD', 'PTPN11'],\n",
    "    ['FLT3', 'WT1'],\n",
    "    ['NRAS', 'IDH1'],\n",
    "    ['Root', 'SF3B1'],\n",
    "    ['SF3B1', 'SRSF2'],\n",
    "    ['SRSF2', 'FLT3-ITD'],\n",
    "    ['SRSF2', 'FLT3'],\n",
    "    ['SRSF2', 'NRAS'],\n",
    "], dtype='<U13')\n",
    "tree_04 = defaultdict(list)\n",
    "for parent, child in edges:\n",
    "    tree_04[parent].append(child)\n",
    "\n",
    "# AML-09-001\n",
    "edges = np.array([\n",
    "    ['NPM1', 'FLT3-ITD'],\n",
    "    ['NPM1', 'FLT3'],\n",
    "    ['NPM1', 'KRAS'],\n",
    "    ['Root', 'NPM1']\n",
    "], dtype='<U13')\n",
    "tree_09 = defaultdict(list)\n",
    "for parent, child in edges:\n",
    "    tree_09[parent].append(child)\n",
    "\n",
    "# AML-83-001\n",
    "edges = np.array([\n",
    "    ['DNMT3A', 'IDH2'],\n",
    "    ['Root', 'DNMT3A']\n",
    "], dtype='<U13')\n",
    "tree_83 = defaultdict(list)\n",
    "for parent, child in edges:\n",
    "    tree_83[parent].append(child)\n"
   ]
  },
  {
   "cell_type": "markdown",
   "metadata": {},
   "source": [
    "#### 3. Predictions"
   ]
  },
  {
   "cell_type": "code",
   "execution_count": 15,
   "metadata": {},
   "outputs": [],
   "source": [
    "def get_rank(tree, mutation_to_index):\n",
    "    genotype_info = {}\n",
    "    \n",
    "    queue = deque()\n",
    "    queue.append(('Root', []))  # (current_node, path_so_far)\n",
    "\n",
    "    while queue:\n",
    "        node, path = queue.popleft()\n",
    "        \n",
    "        # Clean mutation names (skip Root)\n",
    "        if node != 'Root':\n",
    "            path = path + [node]\n",
    "        \n",
    "        # Build genotype vector\n",
    "        vector = np.zeros(22, dtype=int)\n",
    "        for mut in set(path):  # remove duplicates\n",
    "            if mut in mutation_to_index:\n",
    "                idx = mutation_to_index[mut]\n",
    "                vector[idx] = 1\n",
    "        \n",
    "        # Save both vector and path\n",
    "        genotype_info[node] = {\n",
    "            'vector': vector,\n",
    "            'path': path\n",
    "        }\n",
    "        \n",
    "        # Traverse children\n",
    "        for child in tree.get(node, []):\n",
    "            queue.append((child, path))\n",
    "\n",
    "    # 1. First, build a set of existing edges (cleaned mutation names)\n",
    "    existing_edges = set()\n",
    "    for parent, child in edges:\n",
    "        existing_edges.add((parent, child))\n",
    "\n",
    "    # 2. Initialize storage\n",
    "    rows = []\n",
    "\n",
    "    for node, info in genotype_info.items():\n",
    "        current_path = info['path']\n",
    "        current_mutations_set = set(current_path)  # For quick lookup\n",
    "        \n",
    "        # Model output\n",
    "        input_tensor = torch.tensor(info['vector'], dtype=torch.float32).unsqueeze(0)\n",
    "        output = model(input_tensor)[0].squeeze(0).detach().numpy()\n",
    "        \n",
    "        for idx, mutation in enumerate(mutation_list):\n",
    "            # Skip if mutation already present\n",
    "            if mutation in current_mutations_set:\n",
    "                continue\n",
    "            \n",
    "            # Check if this edge already exists\n",
    "            parent = current_path[-1] if current_path else 'Root'\n",
    "            if (parent, mutation) in existing_edges:\n",
    "                continue\n",
    "            \n",
    "            # Build new extended path\n",
    "            extended_path = current_path + [mutation]\n",
    "            pathway_str = '->'.join(extended_path)\n",
    "            \n",
    "            log_energy = float(output[idx])\n",
    "            \n",
    "            rows.append({\n",
    "                'pathway': \"Root->\" + pathway_str,\n",
    "                'log_energy': log_energy\n",
    "            })\n",
    "\n",
    "    # 3. Convert to DataFrame\n",
    "    summary_df = pd.DataFrame(rows)\n",
    "    \n",
    "    # 4. Compute probabilities and ranks\n",
    "    summary_df['probability'] = softmax(summary_df['log_energy'])\n",
    "    summary_df['rank'] = summary_df['probability'].rank(pct=True)\n",
    "\n",
    "    return summary_df\n"
   ]
  },
  {
   "cell_type": "code",
   "execution_count": 16,
   "metadata": {},
   "outputs": [],
   "source": [
    "rank_04 = get_rank(tree_04, mutation_to_index)\n",
    "rank_09 = get_rank(tree_09, mutation_to_index)\n",
    "rank_83 = get_rank(tree_83, mutation_to_index)"
   ]
  },
  {
   "cell_type": "code",
   "execution_count": 17,
   "metadata": {},
   "outputs": [
    {
     "data": {
      "text/plain": [
       "np.float64(0.6936416184971098)"
      ]
     },
     "execution_count": 17,
     "metadata": {},
     "output_type": "execute_result"
    }
   ],
   "source": [
    "rank_04.query(f\"pathway == 'Root->SF3B1->SRSF2->NRAS->WT1'\")[\"rank\"].astype(float).values[0]"
   ]
  },
  {
   "cell_type": "code",
   "execution_count": 18,
   "metadata": {},
   "outputs": [
    {
     "data": {
      "text/plain": [
       "np.float64(0.3872832369942196)"
      ]
     },
     "execution_count": 18,
     "metadata": {},
     "output_type": "execute_result"
    }
   ],
   "source": [
    "rank_04.query(f\"pathway == 'Root->SF3B1->SRSF2->IDH1'\")[\"rank\"].astype(float).values[0]"
   ]
  },
  {
   "cell_type": "code",
   "execution_count": 19,
   "metadata": {},
   "outputs": [
    {
     "data": {
      "text/plain": [
       "np.float64(0.3333333333333333)"
      ]
     },
     "execution_count": 19,
     "metadata": {},
     "output_type": "execute_result"
    }
   ],
   "source": [
    "rank_09.query(f\"pathway == 'Root->NPM1->FLT3->WT1'\")[\"rank\"].astype(float).values[0]"
   ]
  },
  {
   "cell_type": "code",
   "execution_count": 20,
   "metadata": {},
   "outputs": [
    {
     "data": {
      "text/plain": [
       "np.float64(0.9672131147540983)"
      ]
     },
     "execution_count": 20,
     "metadata": {},
     "output_type": "execute_result"
    }
   ],
   "source": [
    "rank_83.query(f\"pathway == 'Root->DNMT3A->IDH2->NRAS'\")[\"rank\"].astype(float).values[0]"
   ]
  },
  {
   "cell_type": "code",
   "execution_count": null,
   "metadata": {},
   "outputs": [],
   "source": []
  }
 ],
 "metadata": {
  "kernelspec": {
   "display_name": "FiTree",
   "language": "python",
   "name": "python3"
  },
  "language_info": {
   "codemirror_mode": {
    "name": "ipython",
    "version": 3
   },
   "file_extension": ".py",
   "mimetype": "text/x-python",
   "name": "python",
   "nbconvert_exporter": "python",
   "pygments_lexer": "ipython3",
   "version": "3.11.9"
  }
 },
 "nbformat": 4,
 "nbformat_minor": 2
}
